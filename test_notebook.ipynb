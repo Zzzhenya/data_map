{
 "cells": [
  {
   "cell_type": "code",
   "execution_count": 1,
   "id": "11c3d54d-d4b8-48bc-b47e-4ff7b71fc41a",
   "metadata": {},
   "outputs": [],
   "source": [
    "import graphviz\n",
    "import pandas as pd"
   ]
  },
  {
   "cell_type": "code",
   "execution_count": 2,
   "id": "d99da6f1-30b2-4cc6-999d-77dce7d27be2",
   "metadata": {},
   "outputs": [],
   "source": [
    "#Open and load csvs \n",
    "df = pd.read_csv('../Supermarket_data/supermarket_sales - Sheet1.csv')"
   ]
  },
  {
   "cell_type": "code",
   "execution_count": 5,
   "id": "513ff3b8-0f3b-42af-a08a-f841761d04be",
   "metadata": {},
   "outputs": [],
   "source": [
    "def draw_graph(dot):\n",
    "    #print(dot.source)\n",
    "    dot.render('./test.gv', view=True)\n",
    "    #dot.render('./test.gv')\n",
    "\n",
    "\n",
    "def create_graph(dot, df):\n",
    "    dot.attr('node', shape='box', style = \"rounded\")\n",
    "    dot.node('0', \"DataFrame\")\n",
    "    #Create the Nodes for columns  \n",
    "    for i in df.columns:\n",
    "        dot.node(i)\n",
    "        dot.edge('0', i)\n",
    "        dot.node(i + str(df.dtypes[i]), \"Dtype: \"+ str(df.dtypes[i]))\n",
    "        dot.edge(i, i + str(df.dtypes[i]))\n",
    "        dot.node(i + \"count\" + str(df[i].count()), \"Count: \"+ str(df[i].count()))\n",
    "        dot.edge(i, i + \"count\" + str(df[i].count()))\n",
    "        if (str(df.dtypes[i]) == \"object\"):\n",
    "            dot.node(i + \"Categorical\", \"Categorical\")\n",
    "            dot.edge(i, i + \"Categorical\")\n",
    "        else:\n",
    "            dot.node(i + \"Numeric\", \"Numeric\")\n",
    "            dot.edge(i, i + \"Numeric\")\n",
    "            dot.node(i + \"min\" + str(df[i].min()), \"Min: \"+ str(df[i].min()))\n",
    "            dot.edge(i, i + \"min\" + str(df[i].min()))\n",
    "            dot.node(i + \"max\" + str(df[i].max()), \"Max: \"+ str(df[i].max()))\n",
    "            dot.edge(i, i + \"max\" + str(df[i].max()))\n",
    "            \n",
    "        dot.node(i + \"nunique\" + str(df[i].nunique()), \"nunique: \"+ str(df[i].nunique()))\n",
    "        dot.edge(i, i + \"nunique\" + str(df[i].nunique()))\n",
    "        dot.node(i + \"nullcount\" + str(df[i].isna().sum()), \"nullcount: \"+ str(df[i].isna().sum()))\n",
    "        dot.edge(i, i + \"nullcount\" + str(df[i].isna().sum()))"
   ]
  },
  {
   "cell_type": "code",
   "execution_count": 6,
   "id": "c1e2f1df-3a8b-43ca-9d30-6790daa3ba11",
   "metadata": {},
   "outputs": [],
   "source": [
    "#Initiate the graph\n",
    "dot = graphviz.Graph(engine = \"fdp\")\n",
    "create_graph(dot, df)\n",
    "draw_graph(dot)"
   ]
  }
 ],
 "metadata": {
  "kernelspec": {
   "display_name": "Python 3 (ipykernel)",
   "language": "python",
   "name": "python3"
  },
  "language_info": {
   "codemirror_mode": {
    "name": "ipython",
    "version": 3
   },
   "file_extension": ".py",
   "mimetype": "text/x-python",
   "name": "python",
   "nbconvert_exporter": "python",
   "pygments_lexer": "ipython3",
   "version": "3.7.9"
  }
 },
 "nbformat": 4,
 "nbformat_minor": 5
}
